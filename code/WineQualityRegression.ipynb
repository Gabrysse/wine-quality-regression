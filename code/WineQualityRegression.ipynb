{
 "cells": [
  {
   "cell_type": "code",
   "execution_count": 12,
   "metadata": {},
   "outputs": [],
   "source": [
    "import numpy as np\n",
    "import pandas as pd\n",
    "import matplotlib.pyplot as plt\n",
    "\n",
    "from nltk.tokenize import word_tokenize\n",
    "from nltk.stem.wordnet import WordNetLemmatizer\n",
    "from nltk.corpus import stopwords as nltk_sw\n",
    "#nltk.download('popular')\n",
    "\n",
    "from sklearn.compose import ColumnTransformer\n",
    "from sklearn.preprocessing import OneHotEncoder\n",
    "from sklearn.feature_extraction.text import TfidfVectorizer\n",
    "from sklearn.model_selection import train_test_split, GridSearchCV\n",
    "from sklearn.pipeline import Pipeline\n",
    "from sklearn.ensemble import RandomForestRegressor\n",
    "from sklearn.linear_model import Lasso, Ridge, LinearRegression\n",
    "from sklearn.svm import SVR\n",
    "from sklearn.metrics import r2_score\n",
    "\n",
    "####################################################################################\n",
    "\n",
    "# Class with a callable method used by TfidfVectorizer to tokenize the document\n",
    "class LemmaTokenizer(object):\n",
    "    def __init__(self):\n",
    "        self.lemmatizer = WordNetLemmatizer()\n",
    "        \n",
    "    def __call__(self, document):\n",
    "        lemmas = []\n",
    "        \n",
    "        document = document.replace(\"[^a-zA-z\\s]\",\"\")\n",
    "        for t in word_tokenize(document):\n",
    "            t = t.strip()\n",
    "            lemma = self.lemmatizer.lemmatize(t)\n",
    "            \n",
    "            if len(lemma) > 3:\n",
    "                lemmas.append(lemma)\n",
    "        return lemmas\n",
    "\n",
    "# Main class of the project. Contains method for loading the datasets, train the models and test it\n",
    "class WineRegressionTask:\n",
    "    def __init__(self):\n",
    "        lemmaTokenizer = LemmaTokenizer()                \n",
    "\n",
    "        # ColumnTransformer is a sort of pipeline that apply some transformation to the given columns.\n",
    "        # In our case, it performs OHE and TF-IDF.\n",
    "        # The columns that are not mentioned are dropped.\n",
    "        self.col_transf_model = ColumnTransformer(\n",
    "                                                    transformers=[\n",
    "                                                        # handle_unknown is mandatory since we don't know if in the evaluation set (ES) there are different unique values\n",
    "                                                        # from the development set (DS). In this way we discard the error.\n",
    "                                                        # If a new unique value is founded in ES this is not encoded since both the ES and DS must have the same dimension.\n",
    "                                                        # On the other hand can happen that a values in the DS and not in ES. The resulting row will have all 0's.\n",
    "                                                        ('ohe', OneHotEncoder(handle_unknown = 'ignore'), [\n",
    "                                                                                                           \"country\", \n",
    "                                                                                                           \"province\", \n",
    "                                                                                                           \"variety\", \n",
    "                                                                                                           \"winery\",\n",
    "                                                                                                           \"region_1\",\n",
    "                                                                                                           \"designation\"\n",
    "                                                                                                          ]),\n",
    "                                                        ('tfidf', TfidfVectorizer(stop_words=nltk_sw.words('english'), tokenizer=lemmaTokenizer), \"description\"),\n",
    "                                                    ],\n",
    "                                                    remainder='drop',\n",
    "                                                    n_jobs=-1\n",
    "                                                  )\n",
    "        \n",
    "    \n",
    "    # Method that load the datasets (dev and eval)\n",
    "    def load_dataset(self, path_dev, path_eval):\n",
    "        self.df_dev = pd.read_csv(path_dev, sep='\\t')\n",
    "        self.df_eval = pd.read_csv(path_eval, sep='\\t')\n",
    "    \n",
    "    # Method that performs all the preprocessing on our data\n",
    "    def preprocessing(self):\n",
    "        self.df_dev.drop_duplicates(inplace=True)\n",
    "        \n",
    "        self.y_true = self.df_dev[\"quality\"]\n",
    "        self.df_dev.drop(columns=[\"quality\"], inplace=True)\n",
    "\n",
    "        self.df_dev.fillna(\"\", inplace=True)\n",
    "        self.df_eval.fillna(\"\", inplace=True)\n",
    "\n",
    "        for d, e in zip(self.df_dev.columns, self.df_eval.columns):\n",
    "            self.df_dev[d] = self.df_dev[d].str.lower()\n",
    "            self.df_eval[e] = self.df_eval[e].str.lower()\n",
    "\n",
    "        # We fit and transform our ColumnTransformer on the DS\n",
    "        self.processed_data = self.col_transf_model.fit_transform(self.df_dev)\n",
    "        # and we only trasform the ES\n",
    "        self.eval_data = self.col_transf_model.transform(self.df_eval)     \n",
    "\n",
    "        print(f\"DF_DEV dimension before preprocessing: {self.df_dev.shape}\")\n",
    "        print(f\"DF_DEV dimension after preprocessing: {self.processed_data.shape}\\n\")\n",
    "        \n",
    "        print(f\"DF_EVAL dimension before preprocessing: {self.df_eval.shape}\")\n",
    "        print(f\"DF_EVAL dimension after preprocessing: {self.eval_data.shape}\\n\")\n",
    "        \n",
    "        \n",
    "    # Method that train the models with the default parameter. Accepted values for p are:\n",
    "    #      - RF, if you want to train a RandomForestRegressor model;\n",
    "    #      - L, if you want to train a Lasso regression model;\n",
    "    #      - R, if you want to train a Ridge regression model;\n",
    "    #      - SVR, if you want to train a SupportVectorRegressor model.\n",
    "    # Note that the develompment set is splitted in 80/20 train/test.\n",
    "    def default_model_train(self, p):\n",
    "        X_train, X_test, y_train, y_test = train_test_split(self.processed_data, self.y_true, test_size=0.2, random_state=42, shuffle=True)\n",
    "        \n",
    "        if p == \"RF\":\n",
    "            self.model = RandomForestRegressor(n_jobs=-1, random_state=42, verbose=3)\n",
    "        elif p == \"L\":\n",
    "            self.model = Lasso(random_state=42)\n",
    "        elif p == \"R\":\n",
    "            self.model = Ridge(random_state=42)\n",
    "        elif p == \"SVR\":\n",
    "            self.model = SVR()\n",
    "            \n",
    "        self.model.fit(X_train, y_train)\n",
    "        self.y_pred = self.model.predict(X_test)\n",
    "        print(\"##### R2 SCORE on test:\")\n",
    "        print(r2_score(y_test, self.y_pred))\n",
    "        print(\"\\n\")\n",
    "        \n",
    "    \n",
    "    # Method that start an hyperparamenters tuning using the Gridsearch function on RanfomForest and Ridge. \n",
    "    # Accepted values for p are:\n",
    "    #      - RF, if you want to tune the parameter for RandomForestRegressor;\n",
    "    #      - RIDGE, if you want to tune the parameter for Ridge regression;\n",
    "    # Note that the develompment set is splitted in 80/20 train/test.\n",
    "    def gridsearch_model_train(self, p): \n",
    "        print(f\"DF_DEV dimension: {self.processed_data.shape}\")\n",
    "        X_train, X_test, y_train, y_test = train_test_split(self.processed_data, self.y_true, test_size=0.2, random_state=42, shuffle=True)\n",
    "        \n",
    "        if p == \"RF\":\n",
    "            pipe = Pipeline([\n",
    "                                ('model', RandomForestRegressor(random_state=42, n_jobs=-1))\n",
    "                            ])\n",
    "        \n",
    "            param_grid = {\n",
    "                            'model__n_estimators': [100, 200],\n",
    "                            'model__min_samples_split': [2, 10, 20]\n",
    "                         }\n",
    "            \n",
    "        elif p == \"RIDGE\":\n",
    "            pipe = Pipeline([\n",
    "                                ('model', Ridge(random_state=42))\n",
    "                            ])\n",
    "\n",
    "            param_grid = {\n",
    "                            'model__alpha': [0.1, 0.2, 0.3, 0.4, 0.5, 0.6, 0.7, 0.8, 0.9, 1.0],\n",
    "                            'model__fit_intercept': [True, False]\n",
    "                          }\n",
    "        \n",
    "        # Gridsearch with cross validation with number of fold = 5 for finding the best hyperparameter configuration based on R2 score. \n",
    "        # (verbose helps to follow the progress since it prints on the screen the current status)\n",
    "        self.gridsearch = GridSearchCV(pipe, param_grid, scoring='r2', cv=5, verbose=10)\n",
    "        self.gridsearch.fit(X_train, y_train)\n",
    "        \n",
    "        print(\"\\n***** Gridsearch best score:\")\n",
    "        print(self.gridsearch.best_params_)\n",
    "        print(\"\\n***** Gridsearch best score:\")\n",
    "        print(self.gridsearch.best_score_)\n",
    "        print(\"\\n\")\n",
    "        \n",
    "        self.y_pred = self.gridsearch.predict(X_test)        \n",
    "        print(\"##### R2 SCORE on test:\")\n",
    "        print(r2_score(y_test, self.y_pred))\n",
    "        print(\"\\n\")\n",
    "        \n",
    "    # Method that predict the quality of the wine contained in the evaluation dataset and store the result in a .csv file\n",
    "    # Accepted values for p are:\n",
    "    #      - D (default), if you want to evalute your default parameter model;\n",
    "    #      - GS (gridsearch), if you want to evalute your gridserch best model;\n",
    "    def regression(self, p): \n",
    "        if p == \"D\":\n",
    "            y_pred = self.model.predict(self.eval_data)\n",
    "            pd.DataFrame(y_pred).to_csv(\"./output/output_defaultTrain.csv\", index_label=\"Id\", header=[\"Predicted\"])\n",
    "        elif p == \"GS\":\n",
    "            y_pred = self.gridsearch.predict(self.eval_data)\n",
    "            pd.DataFrame(y_pred).to_csv(\"./output/output.csv\", index_label=\"Id\", header=[\"Predicted\"])"
   ]
  },
  {
   "cell_type": "markdown",
   "metadata": {},
   "source": [
    "## 1. Dataset loading and preprocessing"
   ]
  },
  {
   "cell_type": "code",
   "execution_count": 13,
   "metadata": {},
   "outputs": [
    {
     "name": "stdout",
     "output_type": "stream",
     "text": [
      "DF_DEV dimension before preprocessing: (85028, 8)\n",
      "DF_DEV dimension after preprocessing: (85028, 81890)\n",
      "\n",
      "DF_EVAL dimension before preprocessing: (30186, 8)\n",
      "DF_EVAL dimension after preprocessing: (30186, 81890)\n",
      "\n",
      "Wall time: 2min 13s\n"
     ]
    }
   ],
   "source": [
    "%%time\n",
    "wrt = WineRegressionTask()\n",
    "\n",
    "wrt.load_dataset(\"dev.tsv\",\"eval.tsv\")\n",
    "wrt.preprocessing()"
   ]
  },
  {
   "cell_type": "markdown",
   "metadata": {},
   "source": [
    "## 2. Model selection"
   ]
  },
  {
   "cell_type": "code",
   "execution_count": null,
   "metadata": {},
   "outputs": [],
   "source": [
    "%%time\n",
    "# Too long, don't run it\n",
    "\n",
    "# wrt.default_model_train(\"SVR\")\n",
    "# wrt.regression(\"D\")"
   ]
  },
  {
   "cell_type": "code",
   "execution_count": 8,
   "metadata": {
    "scrolled": true
   },
   "outputs": [
    {
     "name": "stderr",
     "output_type": "stream",
     "text": [
      "[Parallel(n_jobs=-1)]: Using backend ThreadingBackend with 8 concurrent workers.\n"
     ]
    },
    {
     "name": "stdout",
     "output_type": "stream",
     "text": [
      "building tree 1 of 100building tree 2 of 100building tree 3 of 100\n",
      "building tree 4 of 100\n",
      "\n",
      "\n",
      "building tree 5 of 100building tree 6 of 100\n",
      "building tree 7 of 100\n",
      "building tree 8 of 100\n",
      "\n",
      "building tree 9 of 100\n",
      "building tree 10 of 100\n",
      "building tree 11 of 100\n",
      "building tree 12 of 100\n",
      "building tree 13 of 100\n",
      "building tree 14 of 100\n",
      "building tree 15 of 100\n",
      "building tree 16 of 100\n",
      "building tree 17 of 100\n",
      "building tree 18 of 100\n",
      "building tree 19 of 100\n",
      "building tree 20 of 100\n",
      "building tree 21 of 100\n",
      "building tree 22 of 100\n",
      "building tree 23 of 100\n"
     ]
    },
    {
     "name": "stderr",
     "output_type": "stream",
     "text": [
      "[Parallel(n_jobs=-1)]: Done  16 tasks      | elapsed:  4.2min\n"
     ]
    },
    {
     "name": "stdout",
     "output_type": "stream",
     "text": [
      "building tree 24 of 100\n",
      "building tree 25 of 100\n",
      "building tree 26 of 100\n",
      "building tree 27 of 100\n",
      "building tree 28 of 100\n",
      "building tree 29 of 100\n",
      "building tree 30 of 100\n",
      "building tree 31 of 100\n",
      "building tree 32 of 100\n",
      "building tree 33 of 100\n",
      "building tree 34 of 100\n",
      "building tree 35 of 100\n",
      "building tree 36 of 100\n",
      "building tree 37 of 100\n",
      "building tree 38 of 100\n",
      "building tree 39 of 100\n",
      "building tree 40 of 100\n",
      "building tree 41 of 100\n",
      "building tree 42 of 100\n",
      "building tree 43 of 100\n",
      "building tree 44 of 100\n",
      "building tree 45 of 100\n",
      "building tree 46 of 100\n",
      "building tree 47 of 100\n",
      "building tree 48 of 100\n",
      "building tree 49 of 100\n",
      "building tree 50 of 100\n",
      "building tree 51 of 100\n",
      "building tree 52 of 100\n",
      "building tree 53 of 100\n",
      "building tree 54 of 100\n",
      "building tree 55 of 100\n",
      "building tree 56 of 100\n",
      "building tree 57 of 100\n",
      "building tree 58 of 100\n",
      "building tree 59 of 100\n",
      "building tree 60 of 100\n",
      "building tree 61 of 100\n",
      "building tree 62 of 100\n",
      "building tree 63 of 100\n",
      "building tree 64 of 100\n",
      "building tree 65 of 100\n",
      "building tree 66 of 100\n",
      "building tree 67 of 100\n",
      "building tree 68 of 100\n",
      "building tree 69 of 100\n",
      "building tree 70 of 100\n",
      "building tree 71 of 100\n",
      "building tree 72 of 100\n",
      "building tree 73 of 100\n",
      "building tree 74 of 100\n",
      "building tree 75 of 100\n",
      "building tree 76 of 100\n",
      "building tree 77 of 100\n",
      "building tree 78 of 100\n",
      "building tree 79 of 100\n",
      "building tree 80 of 100\n",
      "building tree 81 of 100\n",
      "building tree 82 of 100\n",
      "building tree 83 of 100\n",
      "building tree 84 of 100\n",
      "building tree 85 of 100\n",
      "building tree 86 of 100\n",
      "building tree 87 of 100\n",
      "building tree 88 of 100\n",
      "building tree 89 of 100\n",
      "building tree 90 of 100\n",
      "building tree 91 of 100\n",
      "building tree 92 of 100\n",
      "building tree 93 of 100\n",
      "building tree 94 of 100\n",
      "building tree 95 of 100\n",
      "building tree 96 of 100\n",
      "building tree 97 of 100\n",
      "building tree 98 of 100\n",
      "building tree 99 of 100\n",
      "building tree 100 of 100\n"
     ]
    },
    {
     "name": "stderr",
     "output_type": "stream",
     "text": [
      "[Parallel(n_jobs=-1)]: Done 100 out of 100 | elapsed: 26.3min finished\n",
      "[Parallel(n_jobs=8)]: Using backend ThreadingBackend with 8 concurrent workers.\n",
      "[Parallel(n_jobs=8)]: Done  16 tasks      | elapsed:    0.0s\n"
     ]
    },
    {
     "name": "stdout",
     "output_type": "stream",
     "text": [
      "##### R2 SCORE on test:\n",
      "0.5574633543093401\n",
      "\n",
      "\n",
      "Wall time: 26min 19s\n"
     ]
    },
    {
     "name": "stderr",
     "output_type": "stream",
     "text": [
      "[Parallel(n_jobs=8)]: Done 100 out of 100 | elapsed:    0.1s finished\n"
     ]
    }
   ],
   "source": [
    "%%time\n",
    "wrt.default_model_train(\"RF\")\n",
    "# wrt.regression(\"D\")"
   ]
  },
  {
   "cell_type": "code",
   "execution_count": 6,
   "metadata": {},
   "outputs": [
    {
     "name": "stdout",
     "output_type": "stream",
     "text": [
      "##### R2 SCORE on test:\n",
      "-4.159064364994691e-05\n",
      "\n",
      "\n",
      "Wall time: 13.5 s\n"
     ]
    }
   ],
   "source": [
    "%%time\n",
    "wrt.default_model_train(\"L\")\n",
    "# wrt.regression(\"D\")"
   ]
  },
  {
   "cell_type": "code",
   "execution_count": 14,
   "metadata": {
    "scrolled": true
   },
   "outputs": [
    {
     "name": "stdout",
     "output_type": "stream",
     "text": [
      "##### R2 SCORE on test:\n",
      "0.748827247336932\n",
      "\n",
      "\n",
      "Wall time: 4.72 s\n"
     ]
    }
   ],
   "source": [
    "%%time\n",
    "wrt.default_model_train(\"R\")\n",
    "wrt.regression(\"D\")"
   ]
  },
  {
   "cell_type": "markdown",
   "metadata": {},
   "source": [
    "## 3. Hyperparameter tuning and results"
   ]
  },
  {
   "cell_type": "code",
   "execution_count": null,
   "metadata": {},
   "outputs": [],
   "source": [
    "%%time\n",
    "wrt.gridsearch_model_train(\"RF\")\n",
    "wrt.regression(\"GS\")\n",
    "\n",
    "# Output lost. Gridsearch process needs 7/8h to finish. Result in report."
   ]
  },
  {
   "cell_type": "code",
   "execution_count": 9,
   "metadata": {
    "scrolled": true
   },
   "outputs": [
    {
     "name": "stdout",
     "output_type": "stream",
     "text": [
      "DF_DEV dimension: (85028, 81890)\n",
      "Fitting 5 folds for each of 20 candidates, totalling 100 fits\n",
      "[CV] model__alpha=0.1, model__fit_intercept=True .....................\n"
     ]
    },
    {
     "name": "stderr",
     "output_type": "stream",
     "text": [
      "[Parallel(n_jobs=1)]: Using backend SequentialBackend with 1 concurrent workers.\n"
     ]
    },
    {
     "name": "stdout",
     "output_type": "stream",
     "text": [
      "[CV]  model__alpha=0.1, model__fit_intercept=True, score=0.711, total=   9.5s\n",
      "[CV] model__alpha=0.1, model__fit_intercept=True .....................\n"
     ]
    },
    {
     "name": "stderr",
     "output_type": "stream",
     "text": [
      "[Parallel(n_jobs=1)]: Done   1 out of   1 | elapsed:    9.4s remaining:    0.0s\n"
     ]
    },
    {
     "name": "stdout",
     "output_type": "stream",
     "text": [
      "[CV]  model__alpha=0.1, model__fit_intercept=True, score=0.703, total=   9.6s\n",
      "[CV] model__alpha=0.1, model__fit_intercept=True .....................\n"
     ]
    },
    {
     "name": "stderr",
     "output_type": "stream",
     "text": [
      "[Parallel(n_jobs=1)]: Done   2 out of   2 | elapsed:   19.1s remaining:    0.0s\n"
     ]
    },
    {
     "name": "stdout",
     "output_type": "stream",
     "text": [
      "[CV]  model__alpha=0.1, model__fit_intercept=True, score=0.707, total=   9.5s\n",
      "[CV] model__alpha=0.1, model__fit_intercept=True .....................\n"
     ]
    },
    {
     "name": "stderr",
     "output_type": "stream",
     "text": [
      "[Parallel(n_jobs=1)]: Done   3 out of   3 | elapsed:   28.6s remaining:    0.0s\n"
     ]
    },
    {
     "name": "stdout",
     "output_type": "stream",
     "text": [
      "[CV]  model__alpha=0.1, model__fit_intercept=True, score=0.693, total=   9.4s\n",
      "[CV] model__alpha=0.1, model__fit_intercept=True .....................\n"
     ]
    },
    {
     "name": "stderr",
     "output_type": "stream",
     "text": [
      "[Parallel(n_jobs=1)]: Done   4 out of   4 | elapsed:   37.9s remaining:    0.0s\n"
     ]
    },
    {
     "name": "stdout",
     "output_type": "stream",
     "text": [
      "[CV]  model__alpha=0.1, model__fit_intercept=True, score=0.705, total=   9.5s\n",
      "[CV] model__alpha=0.1, model__fit_intercept=False ....................\n"
     ]
    },
    {
     "name": "stderr",
     "output_type": "stream",
     "text": [
      "[Parallel(n_jobs=1)]: Done   5 out of   5 | elapsed:   47.4s remaining:    0.0s\n"
     ]
    },
    {
     "name": "stdout",
     "output_type": "stream",
     "text": [
      "[CV]  model__alpha=0.1, model__fit_intercept=False, score=0.710, total=   7.7s\n",
      "[CV] model__alpha=0.1, model__fit_intercept=False ....................\n"
     ]
    },
    {
     "name": "stderr",
     "output_type": "stream",
     "text": [
      "[Parallel(n_jobs=1)]: Done   6 out of   6 | elapsed:   55.1s remaining:    0.0s\n"
     ]
    },
    {
     "name": "stdout",
     "output_type": "stream",
     "text": [
      "[CV]  model__alpha=0.1, model__fit_intercept=False, score=0.703, total=   7.8s\n",
      "[CV] model__alpha=0.1, model__fit_intercept=False ....................\n"
     ]
    },
    {
     "name": "stderr",
     "output_type": "stream",
     "text": [
      "[Parallel(n_jobs=1)]: Done   7 out of   7 | elapsed:  1.0min remaining:    0.0s\n"
     ]
    },
    {
     "name": "stdout",
     "output_type": "stream",
     "text": [
      "[CV]  model__alpha=0.1, model__fit_intercept=False, score=0.706, total=   7.6s\n",
      "[CV] model__alpha=0.1, model__fit_intercept=False ....................\n"
     ]
    },
    {
     "name": "stderr",
     "output_type": "stream",
     "text": [
      "[Parallel(n_jobs=1)]: Done   8 out of   8 | elapsed:  1.2min remaining:    0.0s\n"
     ]
    },
    {
     "name": "stdout",
     "output_type": "stream",
     "text": [
      "[CV]  model__alpha=0.1, model__fit_intercept=False, score=0.691, total=   7.9s\n",
      "[CV] model__alpha=0.1, model__fit_intercept=False ....................\n"
     ]
    },
    {
     "name": "stderr",
     "output_type": "stream",
     "text": [
      "[Parallel(n_jobs=1)]: Done   9 out of   9 | elapsed:  1.3min remaining:    0.0s\n"
     ]
    },
    {
     "name": "stdout",
     "output_type": "stream",
     "text": [
      "[CV]  model__alpha=0.1, model__fit_intercept=False, score=0.702, total=   7.8s\n",
      "[CV] model__alpha=0.2, model__fit_intercept=True .....................\n",
      "[CV]  model__alpha=0.2, model__fit_intercept=True, score=0.730, total=   6.9s\n",
      "[CV] model__alpha=0.2, model__fit_intercept=True .....................\n",
      "[CV]  model__alpha=0.2, model__fit_intercept=True, score=0.725, total=   7.2s\n",
      "[CV] model__alpha=0.2, model__fit_intercept=True .....................\n",
      "[CV]  model__alpha=0.2, model__fit_intercept=True, score=0.729, total=   7.2s\n",
      "[CV] model__alpha=0.2, model__fit_intercept=True .....................\n",
      "[CV]  model__alpha=0.2, model__fit_intercept=True, score=0.714, total=   6.9s\n",
      "[CV] model__alpha=0.2, model__fit_intercept=True .....................\n",
      "[CV]  model__alpha=0.2, model__fit_intercept=True, score=0.725, total=   7.0s\n",
      "[CV] model__alpha=0.2, model__fit_intercept=False ....................\n",
      "[CV]  model__alpha=0.2, model__fit_intercept=False, score=0.729, total=   5.8s\n",
      "[CV] model__alpha=0.2, model__fit_intercept=False ....................\n",
      "[CV]  model__alpha=0.2, model__fit_intercept=False, score=0.724, total=   5.9s\n",
      "[CV] model__alpha=0.2, model__fit_intercept=False ....................\n",
      "[CV]  model__alpha=0.2, model__fit_intercept=False, score=0.727, total=   5.7s\n",
      "[CV] model__alpha=0.2, model__fit_intercept=False ....................\n",
      "[CV]  model__alpha=0.2, model__fit_intercept=False, score=0.712, total=   5.4s\n",
      "[CV] model__alpha=0.2, model__fit_intercept=False ....................\n",
      "[CV]  model__alpha=0.2, model__fit_intercept=False, score=0.723, total=   5.5s\n",
      "[CV] model__alpha=0.3, model__fit_intercept=True .....................\n",
      "[CV]  model__alpha=0.3, model__fit_intercept=True, score=0.738, total=   5.5s\n",
      "[CV] model__alpha=0.3, model__fit_intercept=True .....................\n",
      "[CV]  model__alpha=0.3, model__fit_intercept=True, score=0.733, total=   5.7s\n",
      "[CV] model__alpha=0.3, model__fit_intercept=True .....................\n",
      "[CV]  model__alpha=0.3, model__fit_intercept=True, score=0.737, total=   5.6s\n",
      "[CV] model__alpha=0.3, model__fit_intercept=True .....................\n",
      "[CV]  model__alpha=0.3, model__fit_intercept=True, score=0.723, total=   5.5s\n",
      "[CV] model__alpha=0.3, model__fit_intercept=True .....................\n",
      "[CV]  model__alpha=0.3, model__fit_intercept=True, score=0.734, total=   5.7s\n",
      "[CV] model__alpha=0.3, model__fit_intercept=False ....................\n",
      "[CV]  model__alpha=0.3, model__fit_intercept=False, score=0.737, total=   4.5s\n",
      "[CV] model__alpha=0.3, model__fit_intercept=False ....................\n",
      "[CV]  model__alpha=0.3, model__fit_intercept=False, score=0.733, total=   4.6s\n",
      "[CV] model__alpha=0.3, model__fit_intercept=False ....................\n",
      "[CV]  model__alpha=0.3, model__fit_intercept=False, score=0.736, total=   4.7s\n",
      "[CV] model__alpha=0.3, model__fit_intercept=False ....................\n",
      "[CV]  model__alpha=0.3, model__fit_intercept=False, score=0.720, total=   4.5s\n",
      "[CV] model__alpha=0.3, model__fit_intercept=False ....................\n",
      "[CV]  model__alpha=0.3, model__fit_intercept=False, score=0.732, total=   4.6s\n",
      "[CV] model__alpha=0.4, model__fit_intercept=True .....................\n",
      "[CV]  model__alpha=0.4, model__fit_intercept=True, score=0.741, total=   4.8s\n",
      "[CV] model__alpha=0.4, model__fit_intercept=True .....................\n",
      "[CV]  model__alpha=0.4, model__fit_intercept=True, score=0.738, total=   4.9s\n",
      "[CV] model__alpha=0.4, model__fit_intercept=True .....................\n",
      "[CV]  model__alpha=0.4, model__fit_intercept=True, score=0.741, total=   4.8s\n",
      "[CV] model__alpha=0.4, model__fit_intercept=True .....................\n",
      "[CV]  model__alpha=0.4, model__fit_intercept=True, score=0.728, total=   4.8s\n",
      "[CV] model__alpha=0.4, model__fit_intercept=True .....................\n",
      "[CV]  model__alpha=0.4, model__fit_intercept=True, score=0.738, total=   4.9s\n",
      "[CV] model__alpha=0.4, model__fit_intercept=False ....................\n",
      "[CV]  model__alpha=0.4, model__fit_intercept=False, score=0.741, total=   4.0s\n",
      "[CV] model__alpha=0.4, model__fit_intercept=False ....................\n",
      "[CV]  model__alpha=0.4, model__fit_intercept=False, score=0.737, total=   4.1s\n",
      "[CV] model__alpha=0.4, model__fit_intercept=False ....................\n",
      "[CV]  model__alpha=0.4, model__fit_intercept=False, score=0.740, total=   4.0s\n",
      "[CV] model__alpha=0.4, model__fit_intercept=False ....................\n",
      "[CV]  model__alpha=0.4, model__fit_intercept=False, score=0.724, total=   4.0s\n",
      "[CV] model__alpha=0.4, model__fit_intercept=False ....................\n",
      "[CV]  model__alpha=0.4, model__fit_intercept=False, score=0.736, total=   3.9s\n",
      "[CV] model__alpha=0.5, model__fit_intercept=True .....................\n",
      "[CV]  model__alpha=0.5, model__fit_intercept=True, score=0.744, total=   4.4s\n",
      "[CV] model__alpha=0.5, model__fit_intercept=True .....................\n",
      "[CV]  model__alpha=0.5, model__fit_intercept=True, score=0.740, total=   4.6s\n",
      "[CV] model__alpha=0.5, model__fit_intercept=True .....................\n",
      "[CV]  model__alpha=0.5, model__fit_intercept=True, score=0.744, total=   4.4s\n",
      "[CV] model__alpha=0.5, model__fit_intercept=True .....................\n",
      "[CV]  model__alpha=0.5, model__fit_intercept=True, score=0.730, total=   4.3s\n",
      "[CV] model__alpha=0.5, model__fit_intercept=True .....................\n",
      "[CV]  model__alpha=0.5, model__fit_intercept=True, score=0.740, total=   4.4s\n",
      "[CV] model__alpha=0.5, model__fit_intercept=False ....................\n",
      "[CV]  model__alpha=0.5, model__fit_intercept=False, score=0.743, total=   3.6s\n",
      "[CV] model__alpha=0.5, model__fit_intercept=False ....................\n",
      "[CV]  model__alpha=0.5, model__fit_intercept=False, score=0.740, total=   3.6s\n",
      "[CV] model__alpha=0.5, model__fit_intercept=False ....................\n",
      "[CV]  model__alpha=0.5, model__fit_intercept=False, score=0.742, total=   3.6s\n",
      "[CV] model__alpha=0.5, model__fit_intercept=False ....................\n",
      "[CV]  model__alpha=0.5, model__fit_intercept=False, score=0.727, total=   3.6s\n",
      "[CV] model__alpha=0.5, model__fit_intercept=False ....................\n",
      "[CV]  model__alpha=0.5, model__fit_intercept=False, score=0.738, total=   3.7s\n",
      "[CV] model__alpha=0.6, model__fit_intercept=True .....................\n",
      "[CV]  model__alpha=0.6, model__fit_intercept=True, score=0.745, total=   4.0s\n",
      "[CV] model__alpha=0.6, model__fit_intercept=True .....................\n",
      "[CV]  model__alpha=0.6, model__fit_intercept=True, score=0.742, total=   4.1s\n",
      "[CV] model__alpha=0.6, model__fit_intercept=True .....................\n",
      "[CV]  model__alpha=0.6, model__fit_intercept=True, score=0.745, total=   4.1s\n",
      "[CV] model__alpha=0.6, model__fit_intercept=True .....................\n",
      "[CV]  model__alpha=0.6, model__fit_intercept=True, score=0.732, total=   4.1s\n",
      "[CV] model__alpha=0.6, model__fit_intercept=True .....................\n",
      "[CV]  model__alpha=0.6, model__fit_intercept=True, score=0.741, total=   4.0s\n",
      "[CV] model__alpha=0.6, model__fit_intercept=False ....................\n",
      "[CV]  model__alpha=0.6, model__fit_intercept=False, score=0.744, total=   3.1s\n",
      "[CV] model__alpha=0.6, model__fit_intercept=False ....................\n",
      "[CV]  model__alpha=0.6, model__fit_intercept=False, score=0.741, total=   3.3s\n",
      "[CV] model__alpha=0.6, model__fit_intercept=False ....................\n",
      "[CV]  model__alpha=0.6, model__fit_intercept=False, score=0.744, total=   3.3s\n",
      "[CV] model__alpha=0.6, model__fit_intercept=False ....................\n",
      "[CV]  model__alpha=0.6, model__fit_intercept=False, score=0.728, total=   3.3s\n",
      "[CV] model__alpha=0.6, model__fit_intercept=False ....................\n",
      "[CV]  model__alpha=0.6, model__fit_intercept=False, score=0.739, total=   3.3s\n",
      "[CV] model__alpha=0.7, model__fit_intercept=True .....................\n",
      "[CV]  model__alpha=0.7, model__fit_intercept=True, score=0.745, total=   3.8s\n",
      "[CV] model__alpha=0.7, model__fit_intercept=True .....................\n",
      "[CV]  model__alpha=0.7, model__fit_intercept=True, score=0.742, total=   3.8s\n",
      "[CV] model__alpha=0.7, model__fit_intercept=True .....................\n",
      "[CV]  model__alpha=0.7, model__fit_intercept=True, score=0.746, total=   3.8s\n",
      "[CV] model__alpha=0.7, model__fit_intercept=True .....................\n",
      "[CV]  model__alpha=0.7, model__fit_intercept=True, score=0.733, total=   3.7s\n",
      "[CV] model__alpha=0.7, model__fit_intercept=True .....................\n",
      "[CV]  model__alpha=0.7, model__fit_intercept=True, score=0.742, total=   3.9s\n",
      "[CV] model__alpha=0.7, model__fit_intercept=False ....................\n",
      "[CV]  model__alpha=0.7, model__fit_intercept=False, score=0.744, total=   3.0s\n",
      "[CV] model__alpha=0.7, model__fit_intercept=False ....................\n",
      "[CV]  model__alpha=0.7, model__fit_intercept=False, score=0.742, total=   3.0s\n",
      "[CV] model__alpha=0.7, model__fit_intercept=False ....................\n",
      "[CV]  model__alpha=0.7, model__fit_intercept=False, score=0.744, total=   3.1s\n",
      "[CV] model__alpha=0.7, model__fit_intercept=False ....................\n",
      "[CV]  model__alpha=0.7, model__fit_intercept=False, score=0.729, total=   3.0s\n",
      "[CV] model__alpha=0.7, model__fit_intercept=False ....................\n",
      "[CV]  model__alpha=0.7, model__fit_intercept=False, score=0.740, total=   3.1s\n",
      "[CV] model__alpha=0.8, model__fit_intercept=True .....................\n",
      "[CV]  model__alpha=0.8, model__fit_intercept=True, score=0.745, total=   3.7s\n",
      "[CV] model__alpha=0.8, model__fit_intercept=True .....................\n",
      "[CV]  model__alpha=0.8, model__fit_intercept=True, score=0.743, total=   3.8s\n",
      "[CV] model__alpha=0.8, model__fit_intercept=True .....................\n",
      "[CV]  model__alpha=0.8, model__fit_intercept=True, score=0.746, total=   3.8s\n",
      "[CV] model__alpha=0.8, model__fit_intercept=True .....................\n",
      "[CV]  model__alpha=0.8, model__fit_intercept=True, score=0.733, total=   3.8s\n",
      "[CV] model__alpha=0.8, model__fit_intercept=True .....................\n",
      "[CV]  model__alpha=0.8, model__fit_intercept=True, score=0.742, total=   3.8s\n",
      "[CV] model__alpha=0.8, model__fit_intercept=False ....................\n",
      "[CV]  model__alpha=0.8, model__fit_intercept=False, score=0.745, total=   2.9s\n",
      "[CV] model__alpha=0.8, model__fit_intercept=False ....................\n",
      "[CV]  model__alpha=0.8, model__fit_intercept=False, score=0.742, total=   2.9s\n",
      "[CV] model__alpha=0.8, model__fit_intercept=False ....................\n",
      "[CV]  model__alpha=0.8, model__fit_intercept=False, score=0.745, total=   2.8s\n",
      "[CV] model__alpha=0.8, model__fit_intercept=False ....................\n",
      "[CV]  model__alpha=0.8, model__fit_intercept=False, score=0.729, total=   2.8s\n",
      "[CV] model__alpha=0.8, model__fit_intercept=False ....................\n",
      "[CV]  model__alpha=0.8, model__fit_intercept=False, score=0.740, total=   2.9s\n",
      "[CV] model__alpha=0.9, model__fit_intercept=True .....................\n",
      "[CV]  model__alpha=0.9, model__fit_intercept=True, score=0.745, total=   3.7s\n",
      "[CV] model__alpha=0.9, model__fit_intercept=True .....................\n",
      "[CV]  model__alpha=0.9, model__fit_intercept=True, score=0.743, total=   3.6s\n",
      "[CV] model__alpha=0.9, model__fit_intercept=True .....................\n",
      "[CV]  model__alpha=0.9, model__fit_intercept=True, score=0.746, total=   3.8s\n",
      "[CV] model__alpha=0.9, model__fit_intercept=True .....................\n",
      "[CV]  model__alpha=0.9, model__fit_intercept=True, score=0.733, total=   3.4s\n",
      "[CV] model__alpha=0.9, model__fit_intercept=True .....................\n",
      "[CV]  model__alpha=0.9, model__fit_intercept=True, score=0.742, total=   3.5s\n",
      "[CV] model__alpha=0.9, model__fit_intercept=False ....................\n",
      "[CV]  model__alpha=0.9, model__fit_intercept=False, score=0.744, total=   2.6s\n",
      "[CV] model__alpha=0.9, model__fit_intercept=False ....................\n",
      "[CV]  model__alpha=0.9, model__fit_intercept=False, score=0.742, total=   2.7s\n",
      "[CV] model__alpha=0.9, model__fit_intercept=False ....................\n",
      "[CV]  model__alpha=0.9, model__fit_intercept=False, score=0.745, total=   2.7s\n",
      "[CV] model__alpha=0.9, model__fit_intercept=False ....................\n",
      "[CV]  model__alpha=0.9, model__fit_intercept=False, score=0.729, total=   2.7s\n",
      "[CV] model__alpha=0.9, model__fit_intercept=False ....................\n",
      "[CV]  model__alpha=0.9, model__fit_intercept=False, score=0.740, total=   2.7s\n",
      "[CV] model__alpha=1.0, model__fit_intercept=True .....................\n",
      "[CV]  model__alpha=1.0, model__fit_intercept=True, score=0.745, total=   3.4s\n",
      "[CV] model__alpha=1.0, model__fit_intercept=True .....................\n",
      "[CV]  model__alpha=1.0, model__fit_intercept=True, score=0.742, total=   3.3s\n",
      "[CV] model__alpha=1.0, model__fit_intercept=True .....................\n",
      "[CV]  model__alpha=1.0, model__fit_intercept=True, score=0.746, total=   3.3s\n",
      "[CV] model__alpha=1.0, model__fit_intercept=True .....................\n",
      "[CV]  model__alpha=1.0, model__fit_intercept=True, score=0.733, total=   3.1s\n",
      "[CV] model__alpha=1.0, model__fit_intercept=True .....................\n",
      "[CV]  model__alpha=1.0, model__fit_intercept=True, score=0.742, total=   3.4s\n",
      "[CV] model__alpha=1.0, model__fit_intercept=False ....................\n",
      "[CV]  model__alpha=1.0, model__fit_intercept=False, score=0.744, total=   2.6s\n",
      "[CV] model__alpha=1.0, model__fit_intercept=False ....................\n",
      "[CV]  model__alpha=1.0, model__fit_intercept=False, score=0.742, total=   2.6s\n",
      "[CV] model__alpha=1.0, model__fit_intercept=False ....................\n",
      "[CV]  model__alpha=1.0, model__fit_intercept=False, score=0.744, total=   2.7s\n",
      "[CV] model__alpha=1.0, model__fit_intercept=False ....................\n",
      "[CV]  model__alpha=1.0, model__fit_intercept=False, score=0.729, total=   2.7s\n",
      "[CV] model__alpha=1.0, model__fit_intercept=False ....................\n",
      "[CV]  model__alpha=1.0, model__fit_intercept=False, score=0.740, total=   2.6s\n"
     ]
    },
    {
     "name": "stderr",
     "output_type": "stream",
     "text": [
      "[Parallel(n_jobs=1)]: Done 100 out of 100 | elapsed:  7.5min finished\n"
     ]
    },
    {
     "name": "stdout",
     "output_type": "stream",
     "text": [
      "\n",
      "***** Gridsearch best score:\n",
      "{'model__alpha': 0.8, 'model__fit_intercept': True}\n",
      "\n",
      "***** Gridsearch best score:\n",
      "0.7417532508461885\n",
      "\n",
      "\n",
      "##### R2 SCORE on test:\n",
      "0.7493981560371423\n",
      "\n",
      "\n",
      "Wall time: 7min 35s\n"
     ]
    }
   ],
   "source": [
    "%%time\n",
    "wrt.gridsearch_model_train(\"RIDGE\")\n",
    "wrt.regression(\"GS\")"
   ]
  },
  {
   "cell_type": "markdown",
   "metadata": {},
   "source": [
    "## --------------------------------------------------------------------------------------------------------------------------------------"
   ]
  },
  {
   "cell_type": "markdown",
   "metadata": {},
   "source": [
    "## (EXTRA)  Report graph generation "
   ]
  },
  {
   "cell_type": "code",
   "execution_count": null,
   "metadata": {},
   "outputs": [],
   "source": [
    "GSresult = pd.DataFrame(wrt.gridsearch.cv_results_)\n",
    "GSresult.to_csv(\"gs_ridge_final.csv\")\n",
    "\n",
    "graph = GSresult[[\"mean_fit_time\", \"params\", \"mean_test_score\"]].copy()\n",
    "graph[\"params\"] = graph[\"params\"].astype(\"string\").str.replace(\"[{}]\", \"\")\n",
    "graph[\"params\"] = graph[\"params\"].str.replace(\"model__\", \"\")\n",
    "graph[\"params\"] = graph[\"params\"].str.replace(\", \", \"\\n\")\n",
    "\n",
    "graph.head()"
   ]
  },
  {
   "cell_type": "code",
   "execution_count": 194,
   "metadata": {},
   "outputs": [
    {
     "data": {
      "image/png": "[encoded data removed]",
      "text/plain": [
       "<Figure size 1008x720 with 2 Axes>"
      ]
     },
     "metadata": {
      "needs_background": "light"
     },
     "output_type": "display_data"
    }
   ],
   "source": [
    "fig, ax = plt.subplots(2, 1, figsize=(14,10), sharex=True)\n",
    "\n",
    "ax[1].set_xticks(graph.index) \n",
    "ax[1].set_xticklabels(graph[\"params\"], fontsize=15, rotation='vertical')\n",
    "\n",
    "ax[0].set_ylabel('Mean fit time (s)', fontsize='large')\n",
    "ax[1].set_ylabel('Mean R2 test score', fontsize='large')\n",
    "ax[0].grid(alpha=0.1)\n",
    "ax[1].grid(alpha=0.1)\n",
    "\n",
    "ax[0].plot(graph[\"mean_fit_time\"], marker='o', linestyle='-')\n",
    "ax[1].plot(graph[\"mean_test_score\"], marker='o', linestyle='-', c='darkorange')\n",
    "plt.tight_layout()\n",
    "\n",
    "fig.savefig(\"gridsearch_cv_ridge.pdf\")"
   ]
  },
  {
   "cell_type": "code",
   "execution_count": 255,
   "metadata": {},
   "outputs": [
    {
     "name": "stderr",
     "output_type": "stream",
     "text": [
      "The PostScript backend does not support transparency; partially transparent artists will be rendered opaque.\n",
      "The PostScript backend does not support transparency; partially transparent artists will be rendered opaque.\n",
      "The PostScript backend does not support transparency; partially transparent artists will be rendered opaque.\n",
      "The PostScript backend does not support transparency; partially transparent artists will be rendered opaque.\n",
      "The PostScript backend does not support transparency; partially transparent artists will be rendered opaque.\n",
      "The PostScript backend does not support transparency; partially transparent artists will be rendered opaque.\n",
      "The PostScript backend does not support transparency; partially transparent artists will be rendered opaque.\n",
      "The PostScript backend does not support transparency; partially transparent artists will be rendered opaque.\n",
      "The PostScript backend does not support transparency; partially transparent artists will be rendered opaque.\n",
      "The PostScript backend does not support transparency; partially transparent artists will be rendered opaque.\n",
      "The PostScript backend does not support transparency; partially transparent artists will be rendered opaque.\n",
      "The PostScript backend does not support transparency; partially transparent artists will be rendered opaque.\n",
      "The PostScript backend does not support transparency; partially transparent artists will be rendered opaque.\n",
      "The PostScript backend does not support transparency; partially transparent artists will be rendered opaque.\n",
      "The PostScript backend does not support transparency; partially transparent artists will be rendered opaque.\n",
      "The PostScript backend does not support transparency; partially transparent artists will be rendered opaque.\n",
      "The PostScript backend does not support transparency; partially transparent artists will be rendered opaque.\n",
      "The PostScript backend does not support transparency; partially transparent artists will be rendered opaque.\n",
      "The PostScript backend does not support transparency; partially transparent artists will be rendered opaque.\n",
      "The PostScript backend does not support transparency; partially transparent artists will be rendered opaque.\n"
     ]
    },
    {
     "data": {
      "image/png": "[encoded data removed]",
      "text/plain": [
       "<Figure size 432x360 with 1 Axes>"
      ]
     },
     "metadata": {
      "needs_background": "light"
     },
     "output_type": "display_data"
    }
   ],
   "source": [
    "import seaborn as sns\n",
    "\n",
    "fig, ax = plt.subplots(figsize=(6, 5))\n",
    "sns.histplot(wrt.y_true, bins=20, ax=ax)\n",
    "plt.savefig(\"quality_displot.eps\")"
   ]
  }
 ],
 "metadata": {
  "kernelspec": {
   "display_name": "Python 3",
   "language": "python",
   "name": "python3"
  },
  "language_info": {
   "codemirror_mode": {
    "name": "ipython",
    "version": 3
   },
   "file_extension": ".py",
   "mimetype": "text/x-python",
   "name": "python",
   "nbconvert_exporter": "python",
   "pygments_lexer": "ipython3",
   "version": "3.8.5"
  }
 },
 "nbformat": 4,
 "nbformat_minor": 4
}
